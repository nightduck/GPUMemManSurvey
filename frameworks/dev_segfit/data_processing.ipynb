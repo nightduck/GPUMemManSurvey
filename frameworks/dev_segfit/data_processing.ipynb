{
 "cells": [
  {
   "cell_type": "code",
   "execution_count": null,
   "metadata": {},
   "outputs": [],
   "source": [
    "import numpy as np\n",
    "import matplotlib.pyplot as plt\n",
    "import csv\n",
    "import os\n",
    "\n",
    "VANILLA_CUDA_EVENTS = \"vanillacuda_api.csv\"\n",
    "DEV_SEGFIT_EVENTS = \"devsegfit_nvtx.csv\"\n",
    "DEV_SEGFIT_API = \"devsegfit_api.csv\"\n",
    "ACTIONS_CSV = \"actions.csv\""
   ]
  },
  {
   "cell_type": "code",
   "execution_count": 16,
   "metadata": {},
   "outputs": [],
   "source": [
    "bins = [None] * 32\n",
    "malloc_sizes = []\n",
    "free_sizes = []\n",
    "with open(ACTIONS_CSV, 'r') as f:\n",
    "    reader = csv.reader(f)\n",
    "    for row in reader:\n",
    "        if bins[int(row[0])] != None:\n",
    "            free_sizes.append(bins[int(row[0])])\n",
    "        malloc_sizes.append(int(row[1]))\n",
    "        bins[int(row[0])] = int(row[1])\n",
    "        \n",
    "for i in bins:\n",
    "    free_sizes.append(i)"
   ]
  },
  {
   "cell_type": "code",
   "execution_count": 18,
   "metadata": {},
   "outputs": [],
   "source": [
    "free = []\n",
    "malloc = []\n",
    "memorygraph = [(0, 0)]\n",
    "saved = (free_sizes.copy(), malloc_sizes.copy())\n",
    "\n",
    "with open(VANILLA_CUDA_EVENTS, 'r') as f:\n",
    "  reader = csv.reader(f, delimiter='\\t', skipinitialspace=True)\n",
    "  next(reader)\n",
    "  for row in reader:\n",
    "    if row[2][-2:] == \"μs\":\n",
    "      duration = float(row[2][:-3]) * 1000\n",
    "    elif row[2][-2:] == \"ms\":\n",
    "      duration = float(row[2][:-3])*1000000\n",
    "    elif row[2][-2:] == \"ns\":\n",
    "      duration = float(row[2][:-3])\n",
    "    else:\n",
    "      print(row)\n",
    "      raise ValueError(\"Unknown time unit\")\n",
    "    if row[0] == \"cudaFree\":\n",
    "      free.append([int(float(row[1][:-1])*10**9), duration])\n",
    "      memoryfootprint = memorygraph[-1][1] - free_sizes.pop(0)\n",
    "      memorygraph.append((int(float(row[1][:-1])*10**9), memoryfootprint))\n",
    "    elif row[0] == \"cudaMalloc\":\n",
    "      malloc.append([int(float(row[1][:-1])*10**9), duration])\n",
    "      memoryfootprint = memorygraph[-1][1] + malloc_sizes.pop(0)\n",
    "      memorygraph.append((int(float(row[1][:-1])*10**9), memoryfootprint))\n",
    "        \n",
    "vanillacuda_free_data = np.array(free, dtype=np.float32)\n",
    "vanillacuda_malloc_data = np.array(malloc, dtype=np.float32)\n",
    "free_sizes = saved[0]\n",
    "malloc_sizes = saved[1]"
   ]
  },
  {
   "cell_type": "code",
   "execution_count": null,
   "metadata": {},
   "outputs": [],
   "source": [
    "memorygraph_np = np.array(memorygraph, dtype=np.float32)\n",
    "\n",
    "plt.plot(memorygraph_np[:,0]/1000000, memorygraph_np[:,1]/1024/1024, label=\"Memory footprint\")"
   ]
  },
  {
   "cell_type": "code",
   "execution_count": 19,
   "metadata": {},
   "outputs": [],
   "source": [
    "free = []\n",
    "malloc = []\n",
    "memorygraph = [(0, 0)]\n",
    "saved = (free_sizes.copy(), malloc_sizes.copy())\n",
    "\n",
    "with open(DEV_SEGFIT_EVENTS, 'r') as f:\n",
    "  reader = csv.reader(f, delimiter='\\t', skipinitialspace=True)\n",
    "  next(reader)\n",
    "  for row in reader:\n",
    "    if row[2][-2:] == \"μs\":\n",
    "      duration = float(row[2][:-3]) * 1000\n",
    "    elif row[2][-2:] == \"ms\":\n",
    "      duration = float(row[2][:-3])*1000000\n",
    "    elif row[2][-2:] == \"ns\":\n",
    "      duration = float(row[2][:-3])\n",
    "    else:\n",
    "      print(row)\n",
    "      raise ValueError(\"Unknown time unit\")\n",
    "    if row[0] == \"free\":\n",
    "      free.append([int(float(row[1][:-1])*10**9), duration])\n",
    "    elif row[0] == \"malloc\":\n",
    "      malloc.append([int(float(row[1][:-1])*10**9), duration])\n",
    "      # malloc_sizes.pop(0)\n",
    "    # elif row[0] == \"cuMemCreate\":\n",
    "    #   memoryfootprint = memorygraph[-1][1] + malloc_sizes.pop(0)\n",
    "    #   memorygraph.append((int(float(row[1][:-1])*10**9), memoryfootprint))\n",
    "\n",
    "with open(DEV_SEGFIT_API, 'r') as f:\n",
    "  reader = csv.reader(f, delimiter='\\t', skipinitialspace=True)\n",
    "  next(reader)\n",
    "  i = 0\n",
    "  for row in reader:\n",
    "    if row[2] == \"cuMemCreate\":\n",
    "      # Find the element in malloc that is immediately before current time and add that memory size to the memory graph\n",
    "      while malloc[i,0] < int(float(row[1][:-1])*10**9):\n",
    "        i += 1\n",
    "      memoryfootprint = memorygraph[-1][1] + malloc_sizes[i-1,1]\n",
    "\n",
    "devsegfit_free_data = np.array(free, dtype=np.float32)\n",
    "devsegfit_malloc_data = np.array(malloc, dtype=np.float32)\n",
    "free_sizes = saved[0]\n",
    "malloc_sizes = saved[1]"
   ]
  },
  {
   "cell_type": "code",
   "execution_count": null,
   "metadata": {},
   "outputs": [],
   "source": [
    "memorygraph_np = np.array(memorygraph, dtype=np.float32)\n",
    "\n",
    "plt.plot(memorygraph_np[:,0]/1000000, memorygraph_np[:,1]/1024/1024, label=\"Memory footprint\")"
   ]
  }
 ],
 "metadata": {
  "kernelspec": {
   "display_name": "Python 3",
   "language": "python",
   "name": "python3"
  },
  "language_info": {
   "codemirror_mode": {
    "name": "ipython",
    "version": 3
   },
   "file_extension": ".py",
   "mimetype": "text/x-python",
   "name": "python",
   "nbconvert_exporter": "python",
   "pygments_lexer": "ipython3",
   "version": "3.10.12"
  }
 },
 "nbformat": 4,
 "nbformat_minor": 2
}
